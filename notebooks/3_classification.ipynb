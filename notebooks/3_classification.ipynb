{
 "cells": [
  {
   "cell_type": "code",
   "execution_count": 2,
   "id": "1f6fb819",
   "metadata": {},
   "outputs": [],
   "source": [
    "import os\n",
    "import sys\n",
    "from pathlib import Path\n",
    "\n",
    "lib_dir = Path(\"..\") #folder cotaining dir paysim_analysis\n",
    "module_path = os.path.abspath(os.path.join(lib_dir))\n",
    "if module_path not in sys.path:\n",
    "    sys.path.append(module_path)"
   ]
  },
  {
   "cell_type": "code",
   "execution_count": 3,
   "id": "034f2c1f",
   "metadata": {},
   "outputs": [],
   "source": [
    "import pandas as pd\n",
    "from paysim_analysis.classification import *\n",
    "from paysim_analysis.utils import get_project_folder\n",
    "from sklearn.metrics import confusion_matrix, precision_recall_fscore_support, matthews_corrcoef, roc_auc_score, plot_roc_curve"
   ]
  },
  {
   "cell_type": "code",
   "execution_count": 5,
   "id": "1a420a50",
   "metadata": {},
   "outputs": [],
   "source": [
    "dir_ = get_project_folder().parent / \"data\" \n",
    "target = \"isFraud\""
   ]
  },
  {
   "cell_type": "code",
   "execution_count": 6,
   "id": "17cf1715",
   "metadata": {},
   "outputs": [
    {
     "name": "stdout",
     "output_type": "stream",
     "text": [
      "400000\n",
      "16426\n",
      "2770409\n"
     ]
    }
   ],
   "source": [
    "#datasets\n",
    "\n",
    "#tomek_links_df = pd.read_csv(dir_ / \"balanced_datasets/tomek_links_balanced.csv\")\n",
    "smote_df = pd.read_csv(dir_ / \"balanced_datasets/smote_balanced.csv\")\n",
    "near_miss3_df = pd.read_csv(dir_ / \"balanced_datasets/near_miss3_balanced.csv\")\n",
    "df_unbalanced = pd.read_csv(dir_ / \"balanced_datasets/normalized.csv\")\n",
    "\n",
    "#print(len(tomek_links_df))\n",
    "print(len(smote_df))\n",
    "print(len(near_miss3_df))\n",
    "print(len(df_unbalanced))"
   ]
  },
  {
   "cell_type": "markdown",
   "id": "8a3addfd",
   "metadata": {},
   "source": [
    "## SVM on the unbalanced dataset\n",
    "\n",
    "We use the original dataset (we just apply z-score normalization) and force SVM to penalize mistakes on the minority class by an amount proportional to how under-represented it is."
   ]
  },
  {
   "cell_type": "code",
   "execution_count": null,
   "id": "de47e976",
   "metadata": {},
   "outputs": [
    {
     "name": "stdout",
     "output_type": "stream",
     "text": [
      "2770409\n"
     ]
    }
   ],
   "source": [
    "%%time\n",
    "cols = [c for c in df_unbalanced.columns if c != target]\n",
    "X = df_unbalanced[cols]\n",
    "y = df_unbalanced['isFraud']\n",
    "\n",
    "X_train, X_test, y_train, y_test = train_test_split(X, y,\n",
    "                                                    stratify=y, \n",
    "                                                    test_size=0.3)\n",
    "print(len(df_unbalanced))\n",
    "# class_weight='balanced' to panalize mistake on minority class\n",
    "#svc_model = SVC(class_weight='balanced', kernel='linear',  probability=False)\n",
    "svc_model = LinearSVC(class_weight='balanced')\n",
    "#scores_unbalanced = cross_validate(svc_model, X, y, scoring=scoring, cv=5,  n_jobs=-1)\n",
    "svc_model.fit(X_train, y_train)\n",
    "y_pred = svc_model.predict(X_test)"
   ]
  },
  {
   "cell_type": "code",
   "execution_count": null,
   "id": "1a7ec144",
   "metadata": {},
   "outputs": [],
   "source": [
    "%%time\n",
    "model, y_pred, y_test = svm_on_unbalanced_df(df_unbalanced, target)"
   ]
  },
  {
   "cell_type": "code",
   "execution_count": null,
   "id": "b8e1f062",
   "metadata": {},
   "outputs": [],
   "source": [
    "print(\"Preision, Recall, F1, Score :\", precision_recall_fscore_support(y_test, y_pred, average='macro'))\n",
    "print(\"MCC\", matthews_corrcoef(y_test, y_pred))\n",
    "print(\"AUC\", roc_auc_score(y_test, y_pred))"
   ]
  },
  {
   "cell_type": "code",
   "execution_count": null,
   "id": "e6de1752",
   "metadata": {},
   "outputs": [],
   "source": [
    "confusion_matrix(y_test, y_pred)"
   ]
  },
  {
   "cell_type": "markdown",
   "id": "ed64fad0",
   "metadata": {},
   "source": [
    "## SVM on balanced datasets\n",
    "\n",
    "### NearMiss 3"
   ]
  },
  {
   "cell_type": "code",
   "execution_count": 6,
   "id": "14282d76",
   "metadata": {},
   "outputs": [
    {
     "name": "stderr",
     "output_type": "stream",
     "text": [
      "/Users/lanottef/anaconda3/envs/qonto/lib/python3.9/site-packages/sklearn/svm/_base.py:1225: ConvergenceWarning: Liblinear failed to converge, increase the number of iterations.\n",
      "  warnings.warn(\n",
      "/Users/lanottef/anaconda3/envs/qonto/lib/python3.9/site-packages/sklearn/svm/_base.py:1225: ConvergenceWarning: Liblinear failed to converge, increase the number of iterations.\n",
      "  warnings.warn(\n",
      "/Users/lanottef/anaconda3/envs/qonto/lib/python3.9/site-packages/sklearn/svm/_base.py:1225: ConvergenceWarning: Liblinear failed to converge, increase the number of iterations.\n",
      "  warnings.warn(\n",
      "/Users/lanottef/anaconda3/envs/qonto/lib/python3.9/site-packages/sklearn/svm/_base.py:1225: ConvergenceWarning: Liblinear failed to converge, increase the number of iterations.\n",
      "  warnings.warn(\n",
      "/Users/lanottef/anaconda3/envs/qonto/lib/python3.9/site-packages/sklearn/svm/_base.py:1225: ConvergenceWarning: Liblinear failed to converge, increase the number of iterations.\n",
      "  warnings.warn(\n",
      "/Users/lanottef/anaconda3/envs/qonto/lib/python3.9/site-packages/sklearn/svm/_base.py:1225: ConvergenceWarning: Liblinear failed to converge, increase the number of iterations.\n",
      "  warnings.warn(\n"
     ]
    },
    {
     "name": "stdout",
     "output_type": "stream",
     "text": [
      "CPU times: user 79.6 ms, sys: 147 ms, total: 227 ms\n",
      "Wall time: 11.4 s\n"
     ]
    },
    {
     "name": "stderr",
     "output_type": "stream",
     "text": [
      "/Users/lanottef/anaconda3/envs/qonto/lib/python3.9/site-packages/sklearn/svm/_base.py:1225: ConvergenceWarning: Liblinear failed to converge, increase the number of iterations.\n",
      "  warnings.warn(\n",
      "/Users/lanottef/anaconda3/envs/qonto/lib/python3.9/site-packages/sklearn/svm/_base.py:1225: ConvergenceWarning: Liblinear failed to converge, increase the number of iterations.\n",
      "  warnings.warn(\n",
      "/Users/lanottef/anaconda3/envs/qonto/lib/python3.9/site-packages/sklearn/svm/_base.py:1225: ConvergenceWarning: Liblinear failed to converge, increase the number of iterations.\n",
      "  warnings.warn(\n",
      "/Users/lanottef/anaconda3/envs/qonto/lib/python3.9/site-packages/sklearn/svm/_base.py:1225: ConvergenceWarning: Liblinear failed to converge, increase the number of iterations.\n",
      "  warnings.warn(\n"
     ]
    },
    {
     "data": {
      "text/plain": [
       "{'fit_time': 9.32864682674408,\n",
       " 'score_time': 0.016270828247070313,\n",
       " 'test_precision_macro': 0.7987156568678276,\n",
       " 'test_recall_macro': 0.7720398392560257,\n",
       " 'test_f1_macro': 0.7658166637439404,\n",
       " 'test_roc_auc': 0.8442913166736077,\n",
       " 'test_matthews_corrcoef': 0.5698885417800353}"
      ]
     },
     "execution_count": 6,
     "metadata": {},
     "output_type": "execute_result"
    }
   ],
   "source": [
    "%%time\n",
    "scores, mean_scores = svm_on_balanced_df(near_miss3_df, target, verbose=False)\n",
    "mean_scores"
   ]
  },
  {
   "cell_type": "markdown",
   "id": "d7c43189",
   "metadata": {},
   "source": [
    "### Hybrid Approach"
   ]
  },
  {
   "cell_type": "code",
   "execution_count": 7,
   "id": "4575ef0f",
   "metadata": {},
   "outputs": [
    {
     "name": "stderr",
     "output_type": "stream",
     "text": [
      "/Users/lanottef/anaconda3/envs/qonto/lib/python3.9/site-packages/sklearn/svm/_base.py:1225: ConvergenceWarning: Liblinear failed to converge, increase the number of iterations.\n",
      "  warnings.warn(\n",
      "/Users/lanottef/anaconda3/envs/qonto/lib/python3.9/site-packages/sklearn/svm/_base.py:1225: ConvergenceWarning: Liblinear failed to converge, increase the number of iterations.\n",
      "  warnings.warn(\n",
      "/Users/lanottef/anaconda3/envs/qonto/lib/python3.9/site-packages/sklearn/svm/_base.py:1225: ConvergenceWarning: Liblinear failed to converge, increase the number of iterations.\n",
      "  warnings.warn(\n",
      "/Users/lanottef/anaconda3/envs/qonto/lib/python3.9/site-packages/sklearn/svm/_base.py:1225: ConvergenceWarning: Liblinear failed to converge, increase the number of iterations.\n",
      "  warnings.warn(\n",
      "/Users/lanottef/anaconda3/envs/qonto/lib/python3.9/site-packages/sklearn/svm/_base.py:1225: ConvergenceWarning: Liblinear failed to converge, increase the number of iterations.\n",
      "  warnings.warn(\n",
      "/Users/lanottef/anaconda3/envs/qonto/lib/python3.9/site-packages/sklearn/svm/_base.py:1225: ConvergenceWarning: Liblinear failed to converge, increase the number of iterations.\n",
      "  warnings.warn(\n",
      "/Users/lanottef/anaconda3/envs/qonto/lib/python3.9/site-packages/sklearn/svm/_base.py:1225: ConvergenceWarning: Liblinear failed to converge, increase the number of iterations.\n",
      "  warnings.warn(\n",
      "/Users/lanottef/anaconda3/envs/qonto/lib/python3.9/site-packages/sklearn/svm/_base.py:1225: ConvergenceWarning: Liblinear failed to converge, increase the number of iterations.\n",
      "  warnings.warn(\n",
      "/Users/lanottef/anaconda3/envs/qonto/lib/python3.9/site-packages/sklearn/svm/_base.py:1225: ConvergenceWarning: Liblinear failed to converge, increase the number of iterations.\n",
      "  warnings.warn(\n"
     ]
    },
    {
     "name": "stdout",
     "output_type": "stream",
     "text": [
      "CPU times: user 118 ms, sys: 85.6 ms, total: 204 ms\n",
      "Wall time: 3min 25s\n"
     ]
    },
    {
     "name": "stderr",
     "output_type": "stream",
     "text": [
      "/Users/lanottef/anaconda3/envs/qonto/lib/python3.9/site-packages/sklearn/svm/_base.py:1225: ConvergenceWarning: Liblinear failed to converge, increase the number of iterations.\n",
      "  warnings.warn(\n"
     ]
    },
    {
     "data": {
      "text/plain": [
       "{'fit_time': 204.1373915910721,\n",
       " 'score_time': 0.13260843753814697,\n",
       " 'test_precision_macro': 0.9178860781562082,\n",
       " 'test_recall_macro': 0.9167249999999999,\n",
       " 'test_f1_macro': 0.9166670908707187,\n",
       " 'test_roc_auc': 0.9753736264999999,\n",
       " 'test_matthews_corrcoef': 0.8346102638494888}"
      ]
     },
     "execution_count": 7,
     "metadata": {},
     "output_type": "execute_result"
    }
   ],
   "source": [
    "%%time\n",
    "scores, mean_scores = svm_on_balanced_df(smote_df, target, verbose=False)\n",
    "mean_scores"
   ]
  }
 ],
 "metadata": {
  "kernelspec": {
   "display_name": "Python 3 (ipykernel)",
   "language": "python",
   "name": "python3"
  },
  "language_info": {
   "codemirror_mode": {
    "name": "ipython",
    "version": 3
   },
   "file_extension": ".py",
   "mimetype": "text/x-python",
   "name": "python",
   "nbconvert_exporter": "python",
   "pygments_lexer": "ipython3",
   "version": "3.9.12"
  }
 },
 "nbformat": 4,
 "nbformat_minor": 5
}
