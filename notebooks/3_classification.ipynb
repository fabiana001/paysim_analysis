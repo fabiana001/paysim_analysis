{
 "cells": [
  {
   "cell_type": "code",
   "execution_count": 1,
   "id": "1f6fb819",
   "metadata": {},
   "outputs": [],
   "source": [
    "import os\n",
    "import sys\n",
    "from pathlib import Path\n",
    "\n",
    "lib_dir = Path(\"..\") #folder cotaining dir paysim_analysis\n",
    "module_path = os.path.abspath(os.path.join(lib_dir))\n",
    "if module_path not in sys.path:\n",
    "    sys.path.append(module_path)"
   ]
  },
  {
   "cell_type": "code",
   "execution_count": 2,
   "id": "034f2c1f",
   "metadata": {},
   "outputs": [],
   "source": [
    "import pandas as pd\n",
    "from paysim_analysis.classification import *\n",
    "from paysim_analysis.utils import get_project_folder\n",
    "from sklearn.metrics import confusion_matrix, precision_recall_fscore_support, matthews_corrcoef, roc_auc_score, plot_roc_curve\n",
    "import seaborn as sn\n",
    "import matplotlib.pyplot as plt\n"
   ]
  },
  {
   "cell_type": "code",
   "execution_count": 3,
   "id": "1a420a50",
   "metadata": {},
   "outputs": [],
   "source": [
    "dir_ = get_project_folder().parent / \"data\" \n",
    "target = \"isFraud\""
   ]
  },
  {
   "cell_type": "code",
   "execution_count": 4,
   "id": "17cf1715",
   "metadata": {},
   "outputs": [
    {
     "name": "stdout",
     "output_type": "stream",
     "text": [
      "400000\n",
      "16426\n",
      "2770409\n"
     ]
    }
   ],
   "source": [
    "#datasets\n",
    "\n",
    "#tomek_links_df = pd.read_csv(dir_ / \"balanced_datasets/tomek_links_balanced.csv\")\n",
    "smote_df = pd.read_csv(dir_ / \"balanced_datasets/smote_balanced.csv\")\n",
    "near_miss3_df = pd.read_csv(dir_ / \"balanced_datasets/near_miss3_balanced.csv\")\n",
    "df_unbalanced = pd.read_csv(dir_ / \"processed/PS_20174392719_1491204439457_log.csv\")\n",
    "\n",
    "np.random.seed(42)\n",
    "#print(len(tomek_links_df))\n",
    "print(len(smote_df))\n",
    "print(len(near_miss3_df))\n",
    "print(len(df_unbalanced))"
   ]
  },
  {
   "cell_type": "markdown",
   "id": "8a3addfd",
   "metadata": {},
   "source": [
    "## SVM on the unbalanced dataset\n",
    "\n",
    "We use the original dataset (we just apply z-score normalization) and force SVM to penalize mistakes on the minority class by an amount proportional to how under-represented it is."
   ]
  },
  {
   "cell_type": "code",
   "execution_count": 5,
   "id": "1a7ec144",
   "metadata": {},
   "outputs": [
    {
     "name": "stderr",
     "output_type": "stream",
     "text": [
      "/Users/lanottef/anaconda3/envs/qonto/lib/python3.9/site-packages/sklearn/svm/_base.py:1225: ConvergenceWarning: Liblinear failed to converge, increase the number of iterations.\n",
      "  warnings.warn(\n"
     ]
    },
    {
     "name": "stdout",
     "output_type": "stream",
     "text": [
      "CPU times: user 8min 56s, sys: 4.16 s, total: 9min\n",
      "Wall time: 10min 10s\n"
     ]
    }
   ],
   "source": [
    "%%time\n",
    "model, y_pred, y_test = svm_on_unbalanced_df(df_unbalanced, target)"
   ]
  },
  {
   "cell_type": "code",
   "execution_count": 6,
   "id": "b8e1f062",
   "metadata": {},
   "outputs": [
    {
     "name": "stdout",
     "output_type": "stream",
     "text": [
      "Preision, Recall, F1, Score : (0.5512390993553237, 0.9336586392405266, 0.5862442422177777, None)\n",
      "MCC 0.2981293551620829\n",
      "AUC 0.9336586392405266\n"
     ]
    }
   ],
   "source": [
    "print(\"Preision, Recall, F1, Score :\", precision_recall_fscore_support(y_test, y_pred, average='macro'))\n",
    "print(\"MCC\", matthews_corrcoef(y_test, y_pred))\n",
    "print(\"AUC\", roc_auc_score(y_test, y_pred))"
   ]
  },
  {
   "cell_type": "code",
   "execution_count": 7,
   "id": "e6de1752",
   "metadata": {},
   "outputs": [
    {
     "data": {
      "image/png": "[encoded data removed]",
      "text/plain": [
       "<Figure size 432x288 with 2 Axes>"
      ]
     },
     "metadata": {
      "needs_background": "light"
     },
     "output_type": "display_data"
    }
   ],
   "source": [
    "cm = confusion_matrix(y_test, y_pred)\n",
    "ax = plt.axes()\n",
    "ax = sn.heatmap(cm, annot=True, fmt=\".1f\")\n",
    "\n",
    "ax.set_title('SVM on the unbalanced dataset')\n",
    "plt.show()"
   ]
  },
  {
   "cell_type": "markdown",
   "id": "ed64fad0",
   "metadata": {},
   "source": [
    "## SVM on balanced datasets\n",
    "\n",
    "### NearMiss 3"
   ]
  },
  {
   "cell_type": "code",
   "execution_count": 8,
   "id": "14282d76",
   "metadata": {},
   "outputs": [
    {
     "name": "stderr",
     "output_type": "stream",
     "text": [
      "/Users/lanottef/anaconda3/envs/qonto/lib/python3.9/site-packages/sklearn/svm/_base.py:1225: ConvergenceWarning: Liblinear failed to converge, increase the number of iterations.\n",
      "  warnings.warn(\n"
     ]
    },
    {
     "name": "stdout",
     "output_type": "stream",
     "text": [
      "CPU times: user 75.2 ms, sys: 114 ms, total: 189 ms\n",
      "Wall time: 8.04 s\n"
     ]
    },
    {
     "name": "stderr",
     "output_type": "stream",
     "text": [
      "/Users/lanottef/anaconda3/envs/qonto/lib/python3.9/site-packages/sklearn/svm/_base.py:1225: ConvergenceWarning: Liblinear failed to converge, increase the number of iterations.\n",
      "  warnings.warn(\n",
      "/Users/lanottef/anaconda3/envs/qonto/lib/python3.9/site-packages/sklearn/svm/_base.py:1225: ConvergenceWarning: Liblinear failed to converge, increase the number of iterations.\n",
      "  warnings.warn(\n",
      "/Users/lanottef/anaconda3/envs/qonto/lib/python3.9/site-packages/sklearn/svm/_base.py:1225: ConvergenceWarning: Liblinear failed to converge, increase the number of iterations.\n",
      "  warnings.warn(\n",
      "/Users/lanottef/anaconda3/envs/qonto/lib/python3.9/site-packages/sklearn/svm/_base.py:1225: ConvergenceWarning: Liblinear failed to converge, increase the number of iterations.\n",
      "  warnings.warn(\n",
      "/Users/lanottef/anaconda3/envs/qonto/lib/python3.9/site-packages/sklearn/svm/_base.py:1225: ConvergenceWarning: Liblinear failed to converge, increase the number of iterations.\n",
      "  warnings.warn(\n",
      "/Users/lanottef/anaconda3/envs/qonto/lib/python3.9/site-packages/sklearn/svm/_base.py:1225: ConvergenceWarning: Liblinear failed to converge, increase the number of iterations.\n",
      "  warnings.warn(\n",
      "/Users/lanottef/anaconda3/envs/qonto/lib/python3.9/site-packages/sklearn/svm/_base.py:1225: ConvergenceWarning: Liblinear failed to converge, increase the number of iterations.\n",
      "  warnings.warn(\n",
      "/Users/lanottef/anaconda3/envs/qonto/lib/python3.9/site-packages/sklearn/svm/_base.py:1225: ConvergenceWarning: Liblinear failed to converge, increase the number of iterations.\n",
      "  warnings.warn(\n",
      "/Users/lanottef/anaconda3/envs/qonto/lib/python3.9/site-packages/sklearn/svm/_base.py:1225: ConvergenceWarning: Liblinear failed to converge, increase the number of iterations.\n",
      "  warnings.warn(\n"
     ]
    },
    {
     "data": {
      "text/plain": [
       "{'fit_time': 5.75,\n",
       " 'score_time': 0.02,\n",
       " 'test_precision_macro': 0.8,\n",
       " 'test_recall_macro': 0.77,\n",
       " 'test_f1_macro': 0.77,\n",
       " 'test_roc_auc': 0.85,\n",
       " 'test_matthews_corrcoef': 0.58}"
      ]
     },
     "execution_count": 8,
     "metadata": {},
     "output_type": "execute_result"
    }
   ],
   "source": [
    "%%time\n",
    "scores, mean_scores = svm_on_balanced_df(near_miss3_df, target, verbose=False)\n",
    "mean_scores"
   ]
  },
  {
   "cell_type": "markdown",
   "id": "d7c43189",
   "metadata": {},
   "source": [
    "### Hybrid Approach"
   ]
  },
  {
   "cell_type": "code",
   "execution_count": 9,
   "id": "4575ef0f",
   "metadata": {
    "scrolled": true
   },
   "outputs": [
    {
     "name": "stderr",
     "output_type": "stream",
     "text": [
      "/Users/lanottef/anaconda3/envs/qonto/lib/python3.9/site-packages/sklearn/svm/_base.py:1225: ConvergenceWarning: Liblinear failed to converge, increase the number of iterations.\n",
      "  warnings.warn(\n",
      "/Users/lanottef/anaconda3/envs/qonto/lib/python3.9/site-packages/sklearn/svm/_base.py:1225: ConvergenceWarning: Liblinear failed to converge, increase the number of iterations.\n",
      "  warnings.warn(\n",
      "/Users/lanottef/anaconda3/envs/qonto/lib/python3.9/site-packages/sklearn/svm/_base.py:1225: ConvergenceWarning: Liblinear failed to converge, increase the number of iterations.\n",
      "  warnings.warn(\n",
      "/Users/lanottef/anaconda3/envs/qonto/lib/python3.9/site-packages/sklearn/svm/_base.py:1225: ConvergenceWarning: Liblinear failed to converge, increase the number of iterations.\n",
      "  warnings.warn(\n",
      "/Users/lanottef/anaconda3/envs/qonto/lib/python3.9/site-packages/sklearn/svm/_base.py:1225: ConvergenceWarning: Liblinear failed to converge, increase the number of iterations.\n",
      "  warnings.warn(\n",
      "/Users/lanottef/anaconda3/envs/qonto/lib/python3.9/site-packages/sklearn/svm/_base.py:1225: ConvergenceWarning: Liblinear failed to converge, increase the number of iterations.\n",
      "  warnings.warn(\n",
      "/Users/lanottef/anaconda3/envs/qonto/lib/python3.9/site-packages/sklearn/svm/_base.py:1225: ConvergenceWarning: Liblinear failed to converge, increase the number of iterations.\n",
      "  warnings.warn(\n",
      "/Users/lanottef/anaconda3/envs/qonto/lib/python3.9/site-packages/sklearn/svm/_base.py:1225: ConvergenceWarning: Liblinear failed to converge, increase the number of iterations.\n",
      "  warnings.warn(\n",
      "/Users/lanottef/anaconda3/envs/qonto/lib/python3.9/site-packages/sklearn/svm/_base.py:1225: ConvergenceWarning: Liblinear failed to converge, increase the number of iterations.\n",
      "  warnings.warn(\n",
      "/Users/lanottef/anaconda3/envs/qonto/lib/python3.9/site-packages/sklearn/svm/_base.py:1225: ConvergenceWarning: Liblinear failed to converge, increase the number of iterations.\n",
      "  warnings.warn(\n"
     ]
    },
    {
     "name": "stdout",
     "output_type": "stream",
     "text": [
      "CPU times: user 127 ms, sys: 129 ms, total: 256 ms\n",
      "Wall time: 3min 32s\n"
     ]
    },
    {
     "data": {
      "text/plain": [
       "{'fit_time': 210.27,\n",
       " 'score_time': 0.14,\n",
       " 'test_precision_macro': 0.92,\n",
       " 'test_recall_macro': 0.92,\n",
       " 'test_f1_macro': 0.92,\n",
       " 'test_roc_auc': 0.98,\n",
       " 'test_matthews_corrcoef': 0.83}"
      ]
     },
     "execution_count": 9,
     "metadata": {},
     "output_type": "execute_result"
    }
   ],
   "source": [
    "%%time\n",
    "scores, mean_scores = svm_on_balanced_df(smote_df, target, verbose=False)\n",
    "mean_scores"
   ]
  },
  {
   "cell_type": "markdown",
   "id": "d44c1f88",
   "metadata": {},
   "source": [
    "### One Class SVM\n",
    "In this case, the goal is to capture density of the majority class and classifies examples on the extremes of the density function as outliers."
   ]
  },
  {
   "cell_type": "code",
   "execution_count": 10,
   "id": "8e9a12e0",
   "metadata": {},
   "outputs": [],
   "source": [
    "frauds = df_unbalanced[target]\n",
    "\n",
    "oneclass_df = df_unbalanced[~frauds]\n",
    "\n",
    "training_df = oneclass_df.sample(n=200000)\n",
    "test_1_df = df_unbalanced[frauds]\n",
    "test_0_df = oneclass_df.sample(n=len(test_1_df))\n",
    "test_df = pd.concat([test_1_df, test_0_df])\n",
    "model, y_pred = one_class_svm(training_df, test_df, target)"
   ]
  },
  {
   "cell_type": "code",
   "execution_count": 11,
   "id": "1bd48d4b",
   "metadata": {},
   "outputs": [
    {
     "name": "stdout",
     "output_type": "stream",
     "text": [
      "Preision, Recall, F1, Score : (0.7737685998198118, 0.6563375136977961, 0.6150579810883713, None)\n",
      "MCC 0.41376467816553075\n",
      "AUC 0.6563375136977961\n"
     ]
    }
   ],
   "source": [
    "# mark inliers 1, outliers -1\n",
    "y_test = test_df[target].astype(int)\n",
    "y_test[y_test == 1] = -1\n",
    "y_test[y_test == 0] = 1\n",
    "\n",
    "print(\"Preision, Recall, F1, Score :\", precision_recall_fscore_support(y_test, y_pred, average='macro'))\n",
    "print(\"MCC\", matthews_corrcoef(y_test, y_pred))\n",
    "print(\"AUC\", roc_auc_score(y_test, y_pred))"
   ]
  },
  {
   "cell_type": "code",
   "execution_count": 12,
   "id": "a4dbd576",
   "metadata": {},
   "outputs": [
    {
     "data": {
      "image/png": "[encoded data removed]",
      "text/plain": [
       "<Figure size 432x288 with 2 Axes>"
      ]
     },
     "metadata": {
      "needs_background": "light"
     },
     "output_type": "display_data"
    }
   ],
   "source": [
    "cm = confusion_matrix(y_test, y_pred)\n",
    "ax = plt.axes()\n",
    "ax = sn.heatmap(cm, annot=True, fmt=\".1f\")\n",
    "\n",
    "ax.set_title('One Class SVM')\n",
    "plt.show()"
   ]
  },
  {
   "cell_type": "code",
   "execution_count": null,
   "id": "2a94c5de",
   "metadata": {},
   "outputs": [],
   "source": []
  }
 ],
 "metadata": {
  "kernelspec": {
   "display_name": "Python 3 (ipykernel)",
   "language": "python",
   "name": "python3"
  },
  "language_info": {
   "codemirror_mode": {
    "name": "ipython",
    "version": 3
   },
   "file_extension": ".py",
   "mimetype": "text/x-python",
   "name": "python",
   "nbconvert_exporter": "python",
   "pygments_lexer": "ipython3",
   "version": "3.9.12"
  }
 },
 "nbformat": 4,
 "nbformat_minor": 5
}
